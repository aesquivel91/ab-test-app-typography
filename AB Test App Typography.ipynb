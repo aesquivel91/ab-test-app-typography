{
 "cells": [
  {
   "cell_type": "markdown",
   "metadata": {},
   "source": [
    "# Test A/A/B de Tipografía en App\n",
    "## Paso 1: Cargar los datos y realizar inspección inicial"
   ]
  },
  {
   "cell_type": "code",
   "execution_count": 1,
   "metadata": {},
   "outputs": [
    {
     "name": "stdout",
     "output_type": "stream",
     "text": [
      "<class 'pandas.core.frame.DataFrame'>\n",
      "RangeIndex: 244126 entries, 0 to 244125\n",
      "Data columns (total 4 columns):\n",
      " #   Column          Non-Null Count   Dtype \n",
      "---  ------          --------------   ----- \n",
      " 0   EventName       244126 non-null  object\n",
      " 1   DeviceIDHash    244126 non-null  int64 \n",
      " 2   EventTimestamp  244126 non-null  int64 \n",
      " 3   ExpId           244126 non-null  int64 \n",
      "dtypes: int64(3), object(1)\n",
      "memory usage: 7.5+ MB\n"
     ]
    },
    {
     "data": {
      "text/html": [
       "<div>\n",
       "<style scoped>\n",
       "    .dataframe tbody tr th:only-of-type {\n",
       "        vertical-align: middle;\n",
       "    }\n",
       "\n",
       "    .dataframe tbody tr th {\n",
       "        vertical-align: top;\n",
       "    }\n",
       "\n",
       "    .dataframe thead th {\n",
       "        text-align: right;\n",
       "    }\n",
       "</style>\n",
       "<table border=\"1\" class=\"dataframe\">\n",
       "  <thead>\n",
       "    <tr style=\"text-align: right;\">\n",
       "      <th></th>\n",
       "      <th>EventName</th>\n",
       "      <th>DeviceIDHash</th>\n",
       "      <th>EventTimestamp</th>\n",
       "      <th>ExpId</th>\n",
       "    </tr>\n",
       "  </thead>\n",
       "  <tbody>\n",
       "    <tr>\n",
       "      <th>0</th>\n",
       "      <td>MainScreenAppear</td>\n",
       "      <td>4575588528974610257</td>\n",
       "      <td>1564029816</td>\n",
       "      <td>246</td>\n",
       "    </tr>\n",
       "    <tr>\n",
       "      <th>1</th>\n",
       "      <td>MainScreenAppear</td>\n",
       "      <td>7416695313311560658</td>\n",
       "      <td>1564053102</td>\n",
       "      <td>246</td>\n",
       "    </tr>\n",
       "    <tr>\n",
       "      <th>2</th>\n",
       "      <td>PaymentScreenSuccessful</td>\n",
       "      <td>3518123091307005509</td>\n",
       "      <td>1564054127</td>\n",
       "      <td>248</td>\n",
       "    </tr>\n",
       "    <tr>\n",
       "      <th>3</th>\n",
       "      <td>CartScreenAppear</td>\n",
       "      <td>3518123091307005509</td>\n",
       "      <td>1564054127</td>\n",
       "      <td>248</td>\n",
       "    </tr>\n",
       "    <tr>\n",
       "      <th>4</th>\n",
       "      <td>PaymentScreenSuccessful</td>\n",
       "      <td>6217807653094995999</td>\n",
       "      <td>1564055322</td>\n",
       "      <td>248</td>\n",
       "    </tr>\n",
       "  </tbody>\n",
       "</table>\n",
       "</div>"
      ],
      "text/plain": [
       "                 EventName         DeviceIDHash  EventTimestamp  ExpId\n",
       "0         MainScreenAppear  4575588528974610257      1564029816    246\n",
       "1         MainScreenAppear  7416695313311560658      1564053102    246\n",
       "2  PaymentScreenSuccessful  3518123091307005509      1564054127    248\n",
       "3         CartScreenAppear  3518123091307005509      1564054127    248\n",
       "4  PaymentScreenSuccessful  6217807653094995999      1564055322    248"
      ]
     },
     "execution_count": 1,
     "metadata": {},
     "output_type": "execute_result"
    }
   ],
   "source": [
    "# Paso 1.1: Cargar los datos\n",
    "import pandas as pd\n",
    "import matplotlib.pyplot as plt\n",
    "import seaborn as sns\n",
    "import matplotlib.pyplot as plt\n",
    "from statsmodels.stats.proportion import proportions_ztest\n",
    "\n",
    "# Cargar archivo CSV separado por tabulaciones\n",
    "df = pd.read_csv('logs_exp_us).csv', sep='\t')\n",
    "\n",
    "#Mostrar detalles de Dataset\n",
    "df.info()\n",
    "\n",
    "# Mostrar las primeras filas\n",
    "df.head()"
   ]
  },
  {
   "cell_type": "markdown",
   "metadata": {},
   "source": [
    "<div class=\"alert alert-block alert-success\">\n",
    "<b>Celda [1]</b> <a class=\"tocSkip\"></a><br>\n",
    "Has comenzado bien al cargar los datos y examinar su estructura inicial con `df.info()` y `df.head()`. Esto es crucial para entender las características del conjunto de datos, como el número de entradas y el tipo de cada columna, lo que te permitirá planificar mejor los siguientes pasos en tu análisis.\n",
    "</div>\n"
   ]
  },
  {
   "cell_type": "markdown",
   "metadata": {},
   "source": [
    "## Paso 2: Preparación de los datos\n",
    "\n",
    "Renombramos las columnas para que tengan nombres más descriptivos:\n",
    "- `event`: tipo de evento realizado\n",
    "- `user_id`: identificador único de usuario\n",
    "- `timestamp`: marca temporal en formato UNIX\n",
    "- `experiment`: ID del experimento (246 y 247 = control, 248 = prueba)\n",
    "\n",
    "También convertimos el timestamp a formato de fecha legible y separamos la fecha en una columna aparte.\n"
   ]
  },
  {
   "cell_type": "code",
   "execution_count": 2,
   "metadata": {},
   "outputs": [
    {
     "data": {
      "text/html": [
       "<div>\n",
       "<style scoped>\n",
       "    .dataframe tbody tr th:only-of-type {\n",
       "        vertical-align: middle;\n",
       "    }\n",
       "\n",
       "    .dataframe tbody tr th {\n",
       "        vertical-align: top;\n",
       "    }\n",
       "\n",
       "    .dataframe thead th {\n",
       "        text-align: right;\n",
       "    }\n",
       "</style>\n",
       "<table border=\"1\" class=\"dataframe\">\n",
       "  <thead>\n",
       "    <tr style=\"text-align: right;\">\n",
       "      <th></th>\n",
       "      <th>event</th>\n",
       "      <th>user_id</th>\n",
       "      <th>timestamp</th>\n",
       "      <th>experiment</th>\n",
       "      <th>datetime</th>\n",
       "      <th>date</th>\n",
       "    </tr>\n",
       "  </thead>\n",
       "  <tbody>\n",
       "    <tr>\n",
       "      <th>0</th>\n",
       "      <td>MainScreenAppear</td>\n",
       "      <td>4575588528974610257</td>\n",
       "      <td>1564029816</td>\n",
       "      <td>246</td>\n",
       "      <td>2019-07-25 04:43:36</td>\n",
       "      <td>2019-07-25</td>\n",
       "    </tr>\n",
       "    <tr>\n",
       "      <th>1</th>\n",
       "      <td>MainScreenAppear</td>\n",
       "      <td>7416695313311560658</td>\n",
       "      <td>1564053102</td>\n",
       "      <td>246</td>\n",
       "      <td>2019-07-25 11:11:42</td>\n",
       "      <td>2019-07-25</td>\n",
       "    </tr>\n",
       "    <tr>\n",
       "      <th>2</th>\n",
       "      <td>PaymentScreenSuccessful</td>\n",
       "      <td>3518123091307005509</td>\n",
       "      <td>1564054127</td>\n",
       "      <td>248</td>\n",
       "      <td>2019-07-25 11:28:47</td>\n",
       "      <td>2019-07-25</td>\n",
       "    </tr>\n",
       "    <tr>\n",
       "      <th>3</th>\n",
       "      <td>CartScreenAppear</td>\n",
       "      <td>3518123091307005509</td>\n",
       "      <td>1564054127</td>\n",
       "      <td>248</td>\n",
       "      <td>2019-07-25 11:28:47</td>\n",
       "      <td>2019-07-25</td>\n",
       "    </tr>\n",
       "    <tr>\n",
       "      <th>4</th>\n",
       "      <td>PaymentScreenSuccessful</td>\n",
       "      <td>6217807653094995999</td>\n",
       "      <td>1564055322</td>\n",
       "      <td>248</td>\n",
       "      <td>2019-07-25 11:48:42</td>\n",
       "      <td>2019-07-25</td>\n",
       "    </tr>\n",
       "  </tbody>\n",
       "</table>\n",
       "</div>"
      ],
      "text/plain": [
       "                     event              user_id   timestamp  experiment  \\\n",
       "0         MainScreenAppear  4575588528974610257  1564029816         246   \n",
       "1         MainScreenAppear  7416695313311560658  1564053102         246   \n",
       "2  PaymentScreenSuccessful  3518123091307005509  1564054127         248   \n",
       "3         CartScreenAppear  3518123091307005509  1564054127         248   \n",
       "4  PaymentScreenSuccessful  6217807653094995999  1564055322         248   \n",
       "\n",
       "             datetime        date  \n",
       "0 2019-07-25 04:43:36  2019-07-25  \n",
       "1 2019-07-25 11:11:42  2019-07-25  \n",
       "2 2019-07-25 11:28:47  2019-07-25  \n",
       "3 2019-07-25 11:28:47  2019-07-25  \n",
       "4 2019-07-25 11:48:42  2019-07-25  "
      ]
     },
     "execution_count": 2,
     "metadata": {},
     "output_type": "execute_result"
    }
   ],
   "source": [
    "# Paso 2.1: Renombrar columnas para facilitar su manejo\n",
    "df.columns = ['event', 'user_id', 'timestamp', 'experiment']\n",
    "\n",
    "# Paso 2.2: Convertir timestamp a formato datetime legible\n",
    "df['datetime'] = pd.to_datetime(df['timestamp'], unit='s')\n",
    "\n",
    "# Paso 2.3: Extraer solo la fecha (sin hora)\n",
    "df['date'] = df['datetime'].dt.date\n",
    "\n",
    "# Verificar las primeras filas después de la transformación\n",
    "df.head()\n"
   ]
  },
  {
   "cell_type": "markdown",
   "metadata": {},
   "source": [
    "<div class=\"alert alert-block alert-success\">\n",
    "<b>Celda [2]</b> <a class=\"tocSkip\"></a><br>\n",
    "Has hecho un buen trabajo al renombrar las columnas y convertir los timestamps a un formato legible. \n",
    "</div>\n"
   ]
  },
  {
   "cell_type": "markdown",
   "metadata": {},
   "source": [
    "## Paso 3: Exploración general de los datos"
   ]
  },
  {
   "cell_type": "code",
   "execution_count": 3,
   "metadata": {},
   "outputs": [
    {
     "name": "stdout",
     "output_type": "stream",
     "text": [
      "Eventos totales: 244126\n",
      "Usuarios únicos: 7551\n",
      "Promedio de eventos por usuario: 32.33\n",
      "Rango de fechas: 2019-07-25 a 2019-08-07\n"
     ]
    }
   ],
   "source": [
    "# Paso 3.1: Eventos totales\n",
    "total_eventos = len(df)\n",
    "\n",
    "# Paso 3.2: Usuarios únicos\n",
    "usuarios_unicos = df['user_id'].nunique()\n",
    "\n",
    "# Paso 3.3: Promedio de eventos por usuario\n",
    "eventos_por_usuario = total_eventos / usuarios_unicos\n",
    "\n",
    "# Paso 3.4: Rango de fechas\n",
    "fecha_min = df['datetime'].min()\n",
    "fecha_max = df['datetime'].max()\n",
    "\n",
    "# Resultados\n",
    "print(f\"Eventos totales: {total_eventos}\")\n",
    "print(f\"Usuarios únicos: {usuarios_unicos}\")\n",
    "print(f\"Promedio de eventos por usuario: {eventos_por_usuario:.2f}\")\n",
    "print(f\"Rango de fechas: {fecha_min.date()} a {fecha_max.date()}\")\n"
   ]
  },
  {
   "cell_type": "markdown",
   "metadata": {},
   "source": [
    "<div class=\"alert alert-block alert-success\">\n",
    "<b>Celda [3]</b> <a class=\"tocSkip\"></a><br>\n",
    "Has calculado correctamente las métricas básicas del conjunto de datos, como el número total de eventos, usuarios únicos y el promedio de eventos por usuario. Además, el rango de fechas te proporciona un contexto temporal útil para entender el periodo cubierto por los datos, lo que es esencial para cualquier análisis temporal posterior.\n",
    "</div>\n"
   ]
  },
  {
   "cell_type": "code",
   "execution_count": 4,
   "metadata": {},
   "outputs": [
    {
     "data": {
      "image/png": "[encoded data removed]",
      "text/plain": [
       "<Figure size 1200x400 with 1 Axes>"
      ]
     },
     "metadata": {},
     "output_type": "display_data"
    }
   ],
   "source": [
    "# Paso 3.5: Histograma de eventos por fecha\n",
    "\n",
    "# Agrupar eventos por fecha\n",
    "eventos_por_fecha = df['date'].value_counts().sort_index()\n",
    "\n",
    "# Graficar\n",
    "plt.figure(figsize=(12, 4))\n",
    "plt.plot(eventos_por_fecha.index, eventos_por_fecha.values, marker='o')\n",
    "plt.xticks(rotation=45)\n",
    "plt.title('Número de eventos por fecha')\n",
    "plt.xlabel('Fecha')\n",
    "plt.ylabel('Eventos')\n",
    "plt.grid(True)\n",
    "plt.tight_layout()\n",
    "plt.show()\n"
   ]
  },
  {
   "cell_type": "code",
   "execution_count": 5,
   "metadata": {},
   "outputs": [
    {
     "name": "stdout",
     "output_type": "stream",
     "text": [
      "Eventos antes del filtrado: 244126\n",
      "Eventos después del filtrado: 241298\n",
      "Eventos excluidos: 2828\n",
      "\n",
      "Usuarios antes del filtrado: 7551\n",
      "Usuarios después del filtrado: 7534\n",
      "Usuarios excluidos: 17\n"
     ]
    }
   ],
   "source": [
    "# Paso 3.6: Filtrar datos a partir del 1 de agosto de 2019\n",
    "fecha_inicio_confiable = pd.to_datetime(\"2019-08-01\").date()\n",
    "df_filtrado = df[df['date'] >= fecha_inicio_confiable]\n",
    "\n",
    "# Comparar número de eventos y usuarios antes y después\n",
    "eventos_antes = len(df)\n",
    "usuarios_antes = df['user_id'].nunique()\n",
    "\n",
    "eventos_despues = len(df_filtrado)\n",
    "usuarios_despues = df_filtrado['user_id'].nunique()\n",
    "\n",
    "eventos_excluidos = eventos_antes - eventos_despues\n",
    "usuarios_excluidos = usuarios_antes - usuarios_despues\n",
    "\n",
    "print(f\"Eventos antes del filtrado: {eventos_antes}\")\n",
    "print(f\"Eventos después del filtrado: {eventos_despues}\")\n",
    "print(f\"Eventos excluidos: {eventos_excluidos}\\n\")\n",
    "\n",
    "print(f\"Usuarios antes del filtrado: {usuarios_antes}\")\n",
    "print(f\"Usuarios después del filtrado: {usuarios_despues}\")\n",
    "print(f\"Usuarios excluidos: {usuarios_excluidos}\")\n"
   ]
  },
  {
   "cell_type": "markdown",
   "metadata": {},
   "source": [
    "<div class=\"alert alert-block alert-success\">\n",
    "<b>Celda [5]</b> <a class=\"tocSkip\"></a><br>\n",
    "Has realizado un filtrado efectivo de los datos para enfocarte en el periodo más confiable. Comparar los números de eventos y usuarios antes y después del filtrado es crucial para entender cómo este proceso afecta tu análisis y asegurar que estás trabajando con datos relevantes.\n",
    "</div>\n"
   ]
  },
  {
   "cell_type": "code",
   "execution_count": 6,
   "metadata": {},
   "outputs": [
    {
     "name": "stdout",
     "output_type": "stream",
     "text": [
      "Distribución de usuarios por grupo experimental (después del filtrado):\n",
      "experiment\n",
      "246    79425\n",
      "247    77147\n",
      "248    84726\n",
      "Name: count, dtype: int64\n"
     ]
    }
   ],
   "source": [
    "# Paso 3.7: Verificar presencia de los grupos experimentales tras el filtrado\n",
    "grupos_presentes = df_filtrado['experiment'].value_counts().sort_index()\n",
    "\n",
    "print(\"Distribución de usuarios por grupo experimental (después del filtrado):\")\n",
    "print(grupos_presentes)\n"
   ]
  },
  {
   "cell_type": "markdown",
   "metadata": {},
   "source": [
    "<div class=\"alert alert-block alert-warning\">\n",
    "<b>Celda [6]</b> <a class=\"tocSkip\"></a><br>\n",
    "Verificar la presencia de los grupos experimentales tras el filtrado es un paso importante. Para asegurar que las comparaciones entre grupos sean válidas, sería beneficioso verificar también la distribución de usuarios entre los grupos. Esto se puede hacer con:\n",
    "<pre><code>df_filtrado['experiment'].value_counts(normalize=True)</code></pre>\n",
    "Esto te permitirá confirmar si los grupos están equilibrados en términos de proporción de usuarios, lo cual es crucial para la validez de tus análisis comparativos.\n",
    "</div>\n"
   ]
  },
  {
   "cell_type": "markdown",
   "metadata": {},
   "source": [
    "**Completitud de los datos**\n",
    "\n",
    "Al analizar el histograma de eventos por fecha, se observa un cambio brusco a partir del ***1 de agosto de 2019***, donde el volumen de eventos supera los 10,000 diarios de forma consistente. Esto indica que los datos antes de esta fecha podrían estar incompletos o corresponder a pruebas.\n",
    "\n",
    "**Por lo tanto, se considera como punto de partida confiable el 1 de agosto de 2019.**\n",
    "\n",
    "**Impacto del filtrado**\n",
    "\n",
    "Al excluir los registros anteriores al 1 de agosto:\n",
    "\n",
    "- Eventos excluidos: 2,828\n",
    "- Usuarios excluidos: 17\n",
    "\n",
    "La pérdida es mínima en relación al total, por lo que se justifica su eliminación para asegurar la calidad del análisis.\n",
    "\n",
    "**Verificación de grupos experimentales**\n",
    "\n",
    "Tras filtrar los datos, confirmamos que están presentes los tres grupos experimentales:\n",
    "\n",
    "- Grupo 246 (Control A)\n",
    "- Grupo 247 (Control A)\n",
    "- Grupo 248 (Prueba B)\n",
    "\n",
    "Esto garantiza que el análisis del embudo de eventos y el test A/A/B puede continuar sin sesgos por datos incompletos.\n"
   ]
  },
  {
   "cell_type": "markdown",
   "metadata": {},
   "source": [
    "## Paso 4: Embudo de eventos"
   ]
  },
  {
   "cell_type": "code",
   "execution_count": 7,
   "metadata": {},
   "outputs": [
    {
     "data": {
      "text/plain": [
       "event\n",
       "MainScreenAppear           117431\n",
       "OffersScreenAppear          46350\n",
       "CartScreenAppear            42365\n",
       "PaymentScreenSuccessful     34113\n",
       "Tutorial                     1039\n",
       "Name: count, dtype: int64"
      ]
     },
     "execution_count": 7,
     "metadata": {},
     "output_type": "execute_result"
    }
   ],
   "source": [
    "# Paso 4.1: Contar eventos únicos por frecuencia\n",
    "eventos_frecuencia = df_filtrado['event'].value_counts()\n",
    "\n",
    "# Mostrar los eventos ordenados\n",
    "eventos_frecuencia\n"
   ]
  },
  {
   "cell_type": "markdown",
   "metadata": {},
   "source": [
    "<div class=\"alert alert-block alert-success\">\n",
    "<b>Celda [7]</b> <a class=\"tocSkip\"></a><br>\n",
    "Has identificado correctamente los eventos más frecuentes en los datos filtrados, lo cual es esencial para priorizar qué interacciones analizar más a fondo y para estructurar un embudo de conversión que refleje las acciones más comunes de los usuarios.\n",
    "</div>\n"
   ]
  },
  {
   "cell_type": "code",
   "execution_count": 8,
   "metadata": {},
   "outputs": [
    {
     "data": {
      "text/html": [
       "<div>\n",
       "<style scoped>\n",
       "    .dataframe tbody tr th:only-of-type {\n",
       "        vertical-align: middle;\n",
       "    }\n",
       "\n",
       "    .dataframe tbody tr th {\n",
       "        vertical-align: top;\n",
       "    }\n",
       "\n",
       "    .dataframe thead th {\n",
       "        text-align: right;\n",
       "    }\n",
       "</style>\n",
       "<table border=\"1\" class=\"dataframe\">\n",
       "  <thead>\n",
       "    <tr style=\"text-align: right;\">\n",
       "      <th></th>\n",
       "      <th>usuarios_unicos</th>\n",
       "      <th>proporcion</th>\n",
       "    </tr>\n",
       "    <tr>\n",
       "      <th>event</th>\n",
       "      <th></th>\n",
       "      <th></th>\n",
       "    </tr>\n",
       "  </thead>\n",
       "  <tbody>\n",
       "    <tr>\n",
       "      <th>MainScreenAppear</th>\n",
       "      <td>7419</td>\n",
       "      <td>0.985</td>\n",
       "    </tr>\n",
       "    <tr>\n",
       "      <th>OffersScreenAppear</th>\n",
       "      <td>4593</td>\n",
       "      <td>0.610</td>\n",
       "    </tr>\n",
       "    <tr>\n",
       "      <th>CartScreenAppear</th>\n",
       "      <td>3734</td>\n",
       "      <td>0.496</td>\n",
       "    </tr>\n",
       "    <tr>\n",
       "      <th>PaymentScreenSuccessful</th>\n",
       "      <td>3539</td>\n",
       "      <td>0.470</td>\n",
       "    </tr>\n",
       "    <tr>\n",
       "      <th>Tutorial</th>\n",
       "      <td>840</td>\n",
       "      <td>0.111</td>\n",
       "    </tr>\n",
       "  </tbody>\n",
       "</table>\n",
       "</div>"
      ],
      "text/plain": [
       "                         usuarios_unicos  proporcion\n",
       "event                                               \n",
       "MainScreenAppear                    7419       0.985\n",
       "OffersScreenAppear                  4593       0.610\n",
       "CartScreenAppear                    3734       0.496\n",
       "PaymentScreenSuccessful             3539       0.470\n",
       "Tutorial                             840       0.111"
      ]
     },
     "execution_count": 8,
     "metadata": {},
     "output_type": "execute_result"
    }
   ],
   "source": [
    "# Paso 4.2: Número de usuarios únicos por cada evento\n",
    "usuarios_por_evento = df_filtrado.groupby('event')['user_id'].nunique().sort_values(ascending=False)\n",
    "\n",
    "# Proporción de usuarios que realizaron cada evento al menos una vez\n",
    "usuarios_totales = df_filtrado['user_id'].nunique()\n",
    "proporcion_usuarios_evento = (usuarios_por_evento / usuarios_totales).round(3)\n",
    "\n",
    "# Combinar en una tabla\n",
    "embudo_raw = pd.DataFrame({\n",
    "    'usuarios_unicos': usuarios_por_evento,\n",
    "    'proporcion': proporcion_usuarios_evento\n",
    "})\n",
    "\n",
    "embudo_raw\n"
   ]
  },
  {
   "cell_type": "markdown",
   "metadata": {},
   "source": [
    "<div class=\"alert alert-block alert-warning\">\n",
    "<b>Celda [8]</b> <a class=\"tocSkip\"></a><br>\n",
    "El cálculo de la proporción de usuarios únicos por evento es un buen paso para entender el embudo de conversión. Para mejorar la interpretación, considera visualizar estas proporciones, lo que facilitará la identificación de las etapas donde se produce la mayor caída en la conversión.\n",
    "</div>\n"
   ]
  },
  {
   "cell_type": "code",
   "execution_count": 9,
   "metadata": {},
   "outputs": [
    {
     "data": {
      "text/html": [
       "<div>\n",
       "<style scoped>\n",
       "    .dataframe tbody tr th:only-of-type {\n",
       "        vertical-align: middle;\n",
       "    }\n",
       "\n",
       "    .dataframe tbody tr th {\n",
       "        vertical-align: top;\n",
       "    }\n",
       "\n",
       "    .dataframe thead th {\n",
       "        text-align: right;\n",
       "    }\n",
       "</style>\n",
       "<table border=\"1\" class=\"dataframe\">\n",
       "  <thead>\n",
       "    <tr style=\"text-align: right;\">\n",
       "      <th></th>\n",
       "      <th>usuarios</th>\n",
       "      <th>conversion_vs_anterior</th>\n",
       "    </tr>\n",
       "    <tr>\n",
       "      <th>event</th>\n",
       "      <th></th>\n",
       "      <th></th>\n",
       "    </tr>\n",
       "  </thead>\n",
       "  <tbody>\n",
       "    <tr>\n",
       "      <th>MainScreenAppear</th>\n",
       "      <td>7419</td>\n",
       "      <td>NaN</td>\n",
       "    </tr>\n",
       "    <tr>\n",
       "      <th>OffersScreenAppear</th>\n",
       "      <td>4593</td>\n",
       "      <td>0.619</td>\n",
       "    </tr>\n",
       "    <tr>\n",
       "      <th>CartScreenAppear</th>\n",
       "      <td>3734</td>\n",
       "      <td>0.813</td>\n",
       "    </tr>\n",
       "    <tr>\n",
       "      <th>PaymentScreenSuccessful</th>\n",
       "      <td>3539</td>\n",
       "      <td>0.948</td>\n",
       "    </tr>\n",
       "  </tbody>\n",
       "</table>\n",
       "</div>"
      ],
      "text/plain": [
       "                         usuarios  conversion_vs_anterior\n",
       "event                                                    \n",
       "MainScreenAppear             7419                     NaN\n",
       "OffersScreenAppear           4593                   0.619\n",
       "CartScreenAppear             3734                   0.813\n",
       "PaymentScreenSuccessful      3539                   0.948"
      ]
     },
     "execution_count": 9,
     "metadata": {},
     "output_type": "execute_result"
    }
   ],
   "source": [
    "# Paso 4.3: Definir orden lógico del embudo (basado en los nombres de eventos)\n",
    "orden_eventos = [\n",
    "    'MainScreenAppear',\n",
    "    'OffersScreenAppear',\n",
    "    'CartScreenAppear',\n",
    "    'PaymentScreenSuccessful'\n",
    "]\n",
    "\n",
    "# Extraer usuarios únicos por evento en orden definido\n",
    "embudo_etapas = df_filtrado[df_filtrado['event'].isin(orden_eventos)]\n",
    "usuarios_por_etapa = embudo_etapas.groupby('event')['user_id'].nunique().reindex(orden_eventos)\n",
    "\n",
    "# Calcular conversión entre etapas\n",
    "conversiones = usuarios_por_etapa / usuarios_por_etapa.shift(1)\n",
    "\n",
    "# Crear tabla final del embudo\n",
    "embudo = pd.DataFrame({\n",
    "    'usuarios': usuarios_por_etapa,\n",
    "    'conversion_vs_anterior': conversiones.round(3)\n",
    "})\n",
    "\n",
    "embudo\n"
   ]
  },
  {
   "cell_type": "markdown",
   "metadata": {},
   "source": [
    "<div class=\"alert alert-block alert-success\">\n",
    "<b>Celda [9]</b> <a class=\"tocSkip\"></a><br>\n",
    "Has estructurado correctamente el embudo de conversión y calculado las conversiones entre etapas. Este análisis es crucial para identificar las etapas del proceso donde se produce la mayor caída en la conversión, lo cual puede guiar estrategias para mejorar la retención de usuarios.\n",
    "</div>\n"
   ]
  },
  {
   "cell_type": "markdown",
   "metadata": {},
   "source": [
    "Basándonos en los nombres de los eventos, se propone el siguiente orden secuencial:\n",
    "\n",
    "1. `MainScreenAppear` – pantalla principal\n",
    "2. `OffersScreenAppear` – usuario navega por ofertas\n",
    "3. `CartScreenAppear` – el usuario entra al carrito\n",
    "4. `PaymentScreenSuccessful` – pago exitoso\n",
    "\n",
    "Se calcula cuántos usuarios llegan a cada etapa y la conversión entre cada paso. Esto permite identificar en qué momento se pierden más usuarios.\n",
    "\n"
   ]
  },
  {
   "cell_type": "code",
   "execution_count": 10,
   "metadata": {},
   "outputs": [
    {
     "name": "stderr",
     "output_type": "stream",
     "text": [
      "/tmp/ipykernel_25063/4041483220.py:9: FutureWarning: \n",
      "\n",
      "Passing `palette` without assigning `hue` is deprecated and will be removed in v0.14.0. Assign the `y` variable to `hue` and set `legend=False` for the same effect.\n",
      "\n",
      "  sns.barplot(x=valores.values, y=etapas, orient='h', palette='Blues_d')\n"
     ]
    },
    {
     "data": {
      "image/png": "[encoded data removed]",
      "text/plain": [
       "<Figure size 1000x600 with 1 Axes>"
      ]
     },
     "metadata": {},
     "output_type": "display_data"
    }
   ],
   "source": [
    "# Paso 4.4: Visualizar el embudo de conversión\n",
    "\n",
    "# Preparar datos\n",
    "etapas = embudo.index\n",
    "valores = embudo['usuarios']\n",
    "\n",
    "# Crear gráfico de embudo\n",
    "plt.figure(figsize=(10, 6))\n",
    "sns.barplot(x=valores.values, y=etapas, orient='h', palette='Blues_d')\n",
    "\n",
    "# Añadir etiquetas de cantidad\n",
    "for i, v in enumerate(valores):\n",
    "    plt.text(v + 10, i, str(v), va='center')\n",
    "\n",
    "plt.title('Embudo de conversión de usuarios')\n",
    "plt.xlabel('Número de usuarios')\n",
    "plt.ylabel('Etapa del embudo')\n",
    "plt.tight_layout()\n",
    "plt.show()\n"
   ]
  },
  {
   "cell_type": "markdown",
   "metadata": {},
   "source": [
    "<div class=\"alert alert-block alert-warning\">\n",
    "<b>Celda [10]</b> <a class=\"tocSkip\"></a><br>\n",
    "El gráfico del embudo de conversión está bien diseñado y es claro. Para facilitar la comprensión de las tasas de conversión entre etapas, podrías añadir etiquetas que indiquen las tasas de conversión directamente en cada barra del gráfico.\n",
    "</div>\n"
   ]
  },
  {
   "cell_type": "code",
   "execution_count": 11,
   "metadata": {},
   "outputs": [
    {
     "data": {
      "text/html": [
       "<div>\n",
       "<style scoped>\n",
       "    .dataframe tbody tr th:only-of-type {\n",
       "        vertical-align: middle;\n",
       "    }\n",
       "\n",
       "    .dataframe tbody tr th {\n",
       "        vertical-align: top;\n",
       "    }\n",
       "\n",
       "    .dataframe thead th {\n",
       "        text-align: right;\n",
       "    }\n",
       "</style>\n",
       "<table border=\"1\" class=\"dataframe\">\n",
       "  <thead>\n",
       "    <tr style=\"text-align: right;\">\n",
       "      <th></th>\n",
       "      <th>Etapa</th>\n",
       "      <th>usuarios</th>\n",
       "      <th>conversion_vs_anterior</th>\n",
       "      <th>proporcion_relativa</th>\n",
       "      <th>caida_vs_anterior</th>\n",
       "    </tr>\n",
       "  </thead>\n",
       "  <tbody>\n",
       "    <tr>\n",
       "      <th>0</th>\n",
       "      <td>MainScreenAppear</td>\n",
       "      <td>7419</td>\n",
       "      <td>NaN</td>\n",
       "      <td>1.000</td>\n",
       "      <td>NaN</td>\n",
       "    </tr>\n",
       "    <tr>\n",
       "      <th>1</th>\n",
       "      <td>OffersScreenAppear</td>\n",
       "      <td>4593</td>\n",
       "      <td>0.619</td>\n",
       "      <td>0.619</td>\n",
       "      <td>0.381</td>\n",
       "    </tr>\n",
       "    <tr>\n",
       "      <th>2</th>\n",
       "      <td>CartScreenAppear</td>\n",
       "      <td>3734</td>\n",
       "      <td>0.813</td>\n",
       "      <td>0.503</td>\n",
       "      <td>0.187</td>\n",
       "    </tr>\n",
       "    <tr>\n",
       "      <th>3</th>\n",
       "      <td>PaymentScreenSuccessful</td>\n",
       "      <td>3539</td>\n",
       "      <td>0.948</td>\n",
       "      <td>0.477</td>\n",
       "      <td>0.052</td>\n",
       "    </tr>\n",
       "  </tbody>\n",
       "</table>\n",
       "</div>"
      ],
      "text/plain": [
       "                     Etapa  usuarios  conversion_vs_anterior  \\\n",
       "0         MainScreenAppear      7419                     NaN   \n",
       "1       OffersScreenAppear      4593                   0.619   \n",
       "2         CartScreenAppear      3734                   0.813   \n",
       "3  PaymentScreenSuccessful      3539                   0.948   \n",
       "\n",
       "   proporcion_relativa  caida_vs_anterior  \n",
       "0                1.000                NaN  \n",
       "1                0.619              0.381  \n",
       "2                0.503              0.187  \n",
       "3                0.477              0.052  "
      ]
     },
     "execution_count": 11,
     "metadata": {},
     "output_type": "execute_result"
    }
   ],
   "source": [
    "# Definir orden lógico de eventos en el embudo\n",
    "orden_eventos = [\n",
    "    'MainScreenAppear',\n",
    "    'OffersScreenAppear',\n",
    "    'CartScreenAppear',\n",
    "    'PaymentScreenSuccessful'\n",
    "]\n",
    "\n",
    "# Filtrar eventos del embudo\n",
    "embudo_etapas = df_filtrado[df_filtrado['event'].isin(orden_eventos)]\n",
    "\n",
    "# Calcular usuarios únicos por etapa\n",
    "usuarios_por_etapa = embudo_etapas.groupby('event')['user_id'].nunique().reindex(orden_eventos)\n",
    "\n",
    "# Calcular métricas del embudo\n",
    "conversion_entre_etapas = usuarios_por_etapa / usuarios_por_etapa.shift(1)\n",
    "proporcion_relativa = usuarios_por_etapa / usuarios_por_etapa.iloc[0]\n",
    "caida_vs_anterior = 1 - conversion_entre_etapas\n",
    "\n",
    "# Crear DataFrame del embudo\n",
    "tabla_embudo = pd.DataFrame({\n",
    "    'usuarios': usuarios_por_etapa,\n",
    "    'conversion_vs_anterior': conversion_entre_etapas.round(3),\n",
    "    'proporcion_relativa': proporcion_relativa.round(3),\n",
    "    'caida_vs_anterior': caida_vs_anterior.round(3)\n",
    "})\n",
    "\n",
    "# Mostrar tabla\n",
    "tabla_embudo.reset_index().rename(columns={'event': 'Etapa'})\n"
   ]
  },
  {
   "cell_type": "code",
   "execution_count": 12,
   "metadata": {},
   "outputs": [
    {
     "data": {
      "image/png": "[encoded data removed]",
      "text/plain": [
       "<Figure size 800x500 with 1 Axes>"
      ]
     },
     "metadata": {},
     "output_type": "display_data"
    }
   ],
   "source": [
    "# Gráfico de líneas: proporción relativa de usuarios por etapa\n",
    "plt.figure(figsize=(8, 5))\n",
    "plt.plot(tabla_embudo.index, tabla_embudo['proporcion_relativa'], marker='o', linestyle='-')\n",
    "\n",
    "# Estética y etiquetas\n",
    "plt.title('Embudo de conversión: proporción de usuarios desde el inicio')\n",
    "plt.ylabel('Proporción de usuarios')\n",
    "plt.xlabel('Etapa del embudo')\n",
    "plt.ylim(0, 1.05)\n",
    "\n",
    "# Etiquetas sobre los puntos\n",
    "for i, valor in enumerate(tabla_embudo['proporcion_relativa']):\n",
    "    plt.text(i, valor + 0.03, f'{valor:.2f}', ha='center')\n",
    "\n",
    "plt.grid(True)\n",
    "plt.tight_layout()\n",
    "plt.show()\n"
   ]
  },
  {
   "cell_type": "markdown",
   "metadata": {},
   "source": [
    "**Análisis del embudo de conversión**\n",
    "\n",
    "A partir del embudo de eventos calculado, obtenemos las siguientes proporciones entre etapas:\n",
    "\n",
    "| Etapa                    | Usuarios | Conversión desde anterior | Conversión desde inicio | Caída desde anterior |\n",
    "|--------------------------|----------|----------------------------|--------------------------|----------------------|\n",
    "| MainScreenAppear         | 7,419    | -                          | 100%                     | -                    |\n",
    "| OffersScreenAppear       | 4,593    | 61.9%                      | 61.9%                    | **38.1%**            |\n",
    "| CartScreenAppear         | 3,734    | 81.3%                      | 50.3%                    | 18.7%                |\n",
    "| PaymentScreenSuccessful  | 3,539    | 94.8%                      | **47.7%**                | 5.2%                 |\n",
    "\n",
    "- **Mayor caída**: ocurre al pasar de `MainScreenAppear` a `OffersScreenAppear` con una pérdida del **38.1%**.\n",
    "- **Usuarios que completan todo el embudo**: **47.7%** desde la primera pantalla hasta el pago exitoso.\n",
    "\n"
   ]
  },
  {
   "cell_type": "markdown",
   "metadata": {},
   "source": [
    "## Paso 5. Estudiar los resultados del experimento"
   ]
  },
  {
   "cell_type": "code",
   "execution_count": 13,
   "metadata": {},
   "outputs": [
    {
     "data": {
      "text/plain": [
       "experiment\n",
       "246    2484\n",
       "247    2513\n",
       "248    2537\n",
       "Name: user_id, dtype: int64"
      ]
     },
     "execution_count": 13,
     "metadata": {},
     "output_type": "execute_result"
    }
   ],
   "source": [
    "# Paso 5.1: Usuarios únicos por grupo experimental (datos filtrados)\n",
    "usuarios_por_grupo = df_filtrado.groupby('experiment')['user_id'].nunique()\n",
    "\n",
    "usuarios_por_grupo\n"
   ]
  },
  {
   "cell_type": "code",
   "execution_count": 14,
   "metadata": {},
   "outputs": [
    {
     "name": "stdout",
     "output_type": "stream",
     "text": [
      "Evento más frecuente: MainScreenAppear\n"
     ]
    },
    {
     "data": {
      "text/plain": [
       "experiment\n",
       "246    0.9863\n",
       "247    0.9853\n",
       "248    0.9827\n",
       "Name: user_id, dtype: float64"
      ]
     },
     "execution_count": 14,
     "metadata": {},
     "output_type": "execute_result"
    }
   ],
   "source": [
    "# Paso 5.2: Evento más popular en los datos filtrados\n",
    "evento_principal = df_filtrado['event'].value_counts().idxmax()\n",
    "print(f\"Evento más frecuente: {evento_principal}\")\n",
    "\n",
    "# Calcular proporción de usuarios que realizaron ese evento en cada grupo\n",
    "def proporcion_evento_por_grupo(evento):\n",
    "    df_evento = df_filtrado[df_filtrado['event'] == evento]\n",
    "    usuarios_evento = df_evento.groupby('experiment')['user_id'].nunique()\n",
    "    total_usuarios = df_filtrado.groupby('experiment')['user_id'].nunique()\n",
    "    return (usuarios_evento / total_usuarios).fillna(0).round(4)\n",
    "\n",
    "proporcion_evento_por_grupo(evento_principal)\n"
   ]
  },
  {
   "cell_type": "code",
   "execution_count": 15,
   "metadata": {},
   "outputs": [],
   "source": [
    "# Paso 5.3: Función para comparar proporciones entre dos grupos\n",
    "def prueba_z_entre_grupos(evento, grupo_a=246, grupo_b=247):\n",
    "    # Total de usuarios por grupo\n",
    "    total_a = df_filtrado[df_filtrado['experiment'] == grupo_a]['user_id'].nunique()\n",
    "    total_b = df_filtrado[df_filtrado['experiment'] == grupo_b]['user_id'].nunique()\n",
    "    \n",
    "    # Usuarios que realizaron el evento\n",
    "    usuarios_evento = df_filtrado[df_filtrado['event'] == evento]\n",
    "    cuenta_a = usuarios_evento[usuarios_evento['experiment'] == grupo_a]['user_id'].nunique()\n",
    "    cuenta_b = usuarios_evento[usuarios_evento['experiment'] == grupo_b]['user_id'].nunique()\n",
    "    \n",
    "    # Z-test de proporciones\n",
    "    conteos = [cuenta_a, cuenta_b]\n",
    "    totales = [total_a, total_b]\n",
    "    stat, p_value = proportions_ztest(count=conteos, nobs=totales)\n",
    "    \n",
    "    return {\n",
    "        'evento': evento,\n",
    "        'grupo_a_%': round(cuenta_a / total_a, 4),\n",
    "        'grupo_b_%': round(cuenta_b / total_b, 4),\n",
    "        'z_stat': round(stat, 3),\n",
    "        'p_value': round(p_value, 4)\n",
    "    }\n"
   ]
  },
  {
   "cell_type": "markdown",
   "metadata": {},
   "source": [
    "Creamos una función que realiza una prueba Z de proporciones para comparar cada evento entre los grupos 246 y 247. Esto nos permite determinar si existen diferencias estadísticamente significativas que invalidarían el experimento.\n"
   ]
  },
  {
   "cell_type": "code",
   "execution_count": 16,
   "metadata": {},
   "outputs": [
    {
     "data": {
      "text/html": [
       "<div>\n",
       "<style scoped>\n",
       "    .dataframe tbody tr th:only-of-type {\n",
       "        vertical-align: middle;\n",
       "    }\n",
       "\n",
       "    .dataframe tbody tr th {\n",
       "        vertical-align: top;\n",
       "    }\n",
       "\n",
       "    .dataframe thead th {\n",
       "        text-align: right;\n",
       "    }\n",
       "</style>\n",
       "<table border=\"1\" class=\"dataframe\">\n",
       "  <thead>\n",
       "    <tr style=\"text-align: right;\">\n",
       "      <th></th>\n",
       "      <th>evento</th>\n",
       "      <th>grupo_a_%</th>\n",
       "      <th>grupo_b_%</th>\n",
       "      <th>z_stat</th>\n",
       "      <th>p_value</th>\n",
       "    </tr>\n",
       "  </thead>\n",
       "  <tbody>\n",
       "    <tr>\n",
       "      <th>4</th>\n",
       "      <td>PaymentScreenSuccessful</td>\n",
       "      <td>0.4831</td>\n",
       "      <td>0.4608</td>\n",
       "      <td>1.578</td>\n",
       "      <td>0.1146</td>\n",
       "    </tr>\n",
       "    <tr>\n",
       "      <th>3</th>\n",
       "      <td>CartScreenAppear</td>\n",
       "      <td>0.5097</td>\n",
       "      <td>0.4926</td>\n",
       "      <td>1.203</td>\n",
       "      <td>0.2288</td>\n",
       "    </tr>\n",
       "    <tr>\n",
       "      <th>2</th>\n",
       "      <td>OffersScreenAppear</td>\n",
       "      <td>0.6208</td>\n",
       "      <td>0.6049</td>\n",
       "      <td>1.155</td>\n",
       "      <td>0.2481</td>\n",
       "    </tr>\n",
       "    <tr>\n",
       "      <th>1</th>\n",
       "      <td>MainScreenAppear</td>\n",
       "      <td>0.9863</td>\n",
       "      <td>0.9853</td>\n",
       "      <td>0.309</td>\n",
       "      <td>0.7571</td>\n",
       "    </tr>\n",
       "    <tr>\n",
       "      <th>0</th>\n",
       "      <td>Tutorial</td>\n",
       "      <td>0.1119</td>\n",
       "      <td>0.1126</td>\n",
       "      <td>-0.078</td>\n",
       "      <td>0.9377</td>\n",
       "    </tr>\n",
       "  </tbody>\n",
       "</table>\n",
       "</div>"
      ],
      "text/plain": [
       "                    evento  grupo_a_%  grupo_b_%  z_stat  p_value\n",
       "4  PaymentScreenSuccessful     0.4831     0.4608   1.578   0.1146\n",
       "3         CartScreenAppear     0.5097     0.4926   1.203   0.2288\n",
       "2       OffersScreenAppear     0.6208     0.6049   1.155   0.2481\n",
       "1         MainScreenAppear     0.9863     0.9853   0.309   0.7571\n",
       "0                 Tutorial     0.1119     0.1126  -0.078   0.9377"
      ]
     },
     "execution_count": 16,
     "metadata": {},
     "output_type": "execute_result"
    }
   ],
   "source": [
    "# Paso 5.4: Grupos A/A\n",
    "# Obtener eventos únicos\n",
    "eventos_unicos = df_filtrado['event'].unique()\n",
    "\n",
    "# Aplicar prueba a cada evento\n",
    "resultados_pruebas = [prueba_z_entre_grupos(evento) for evento in eventos_unicos]\n",
    "\n",
    "# Convertir resultados en DataFrame\n",
    "tabla_pruebas = pd.DataFrame(resultados_pruebas).sort_values('p_value')\n",
    "\n",
    "tabla_pruebas\n"
   ]
  },
  {
   "cell_type": "markdown",
   "metadata": {},
   "source": [
    "<div class=\"alert alert-block alert-success\">\n",
    "<b>Celda [16]</b> <a class=\"tocSkip\"></a><br>\n",
    "Has implementado correctamente la prueba Z para comparar proporciones entre grupos A/A. Este análisis es fundamental para confirmar que no hay diferencias significativas entre los grupos de control antes de proceder con las pruebas A/B, asegurando así la validez de tus conclusiones.\n",
    "</div>\n"
   ]
  },
  {
   "cell_type": "markdown",
   "metadata": {},
   "source": [
    "**Resultados del test A/A: comparación entre grupos de control (246 vs 247)**\n",
    "\n",
    "Se realizaron pruebas Z de proporciones para los cinco eventos más comunes. A continuación se presentan los resultados:\n",
    "\n",
    "| Evento                   | 246 (%) | 247 (%) | Z-Stat | Valor p  |\n",
    "|--------------------------|---------|---------|--------|----------|\n",
    "| Tutorial                 | 11.19%  | 11.26%  | -0.078 | 0.9377   |\n",
    "| MainScreenAppear         | 98.63%  | 98.53%  | 0.309  | 0.7571   |\n",
    "| OffersScreenAppear       | 62.08%  | 60.49%  | 1.155  | 0.2481   |\n",
    "| CartScreenAppear         | 50.97%  | 49.26%  | 1.203  | 0.2288   |\n",
    "| PaymentScreenSuccessful  | 48.31%  | 46.08%  | 1.578  | 0.1146   |\n",
    "\n",
    "**Conclusión**: Ninguno de los valores p es menor a 0.05, lo que indica que ***no existen diferencias estadísticamente significativas*** entre los dos grupos de control. Esto valida que la asignación fue aleatoria y que podemos confiar en los resultados del experimento A/B que sigue a continuación.\n"
   ]
  },
  {
   "cell_type": "code",
   "execution_count": 17,
   "metadata": {},
   "outputs": [],
   "source": [
    "# Paso 5.5: Prueba Z entre grupo experimental y grupos de control combinados\n",
    "def prueba_z_control_vs_experimental(evento, grupo_control=(246, 247), grupo_experimento=248):\n",
    "    # Usuarios totales por grupo\n",
    "    total_control = df_filtrado[df_filtrado['experiment'].isin(grupo_control)]['user_id'].nunique()\n",
    "    total_exp = df_filtrado[df_filtrado['experiment'] == grupo_experimento]['user_id'].nunique()\n",
    "    \n",
    "    # Usuarios que realizaron el evento\n",
    "    df_evento = df_filtrado[df_filtrado['event'] == evento]\n",
    "    cuenta_control = df_evento[df_evento['experiment'].isin(grupo_control)]['user_id'].nunique()\n",
    "    cuenta_exp = df_evento[df_evento['experiment'] == grupo_experimento]['user_id'].nunique()\n",
    "    \n",
    "    # Prueba Z\n",
    "    conteos = [cuenta_exp, cuenta_control]\n",
    "    totales = [total_exp, total_control]\n",
    "    stat, p_value = proportions_ztest(count=conteos, nobs=totales)\n",
    "    \n",
    "    return {\n",
    "        'evento': evento,\n",
    "        'grupo_exp_%': round(cuenta_exp / total_exp, 4),\n",
    "        'grupo_control_%': round(cuenta_control / total_control, 4),\n",
    "        'z_stat': round(stat, 3),\n",
    "        'p_value': round(p_value, 4)\n",
    "    }\n"
   ]
  },
  {
   "cell_type": "markdown",
   "metadata": {},
   "source": [
    "Creamos una función para realizar una prueba Z entre el grupo experimental (248) y la combinación de los grupos de control (246 y 247).\n",
    "\n",
    "El objetivo es identificar si el nuevo diseño de fuentes (grupo 248) tiene un impacto significativo en el comportamiento del usuario en comparación con el diseño anterior."
   ]
  },
  {
   "cell_type": "code",
   "execution_count": 18,
   "metadata": {},
   "outputs": [
    {
     "data": {
      "text/html": [
       "<div>\n",
       "<style scoped>\n",
       "    .dataframe tbody tr th:only-of-type {\n",
       "        vertical-align: middle;\n",
       "    }\n",
       "\n",
       "    .dataframe tbody tr th {\n",
       "        vertical-align: top;\n",
       "    }\n",
       "\n",
       "    .dataframe thead th {\n",
       "        text-align: right;\n",
       "    }\n",
       "</style>\n",
       "<table border=\"1\" class=\"dataframe\">\n",
       "  <thead>\n",
       "    <tr style=\"text-align: right;\">\n",
       "      <th></th>\n",
       "      <th>evento</th>\n",
       "      <th>grupo_exp_%</th>\n",
       "      <th>grupo_control_%</th>\n",
       "      <th>z_stat</th>\n",
       "      <th>p_value</th>\n",
       "    </tr>\n",
       "  </thead>\n",
       "  <tbody>\n",
       "    <tr>\n",
       "      <th>3</th>\n",
       "      <td>CartScreenAppear</td>\n",
       "      <td>0.4848</td>\n",
       "      <td>0.5011</td>\n",
       "      <td>-1.335</td>\n",
       "      <td>0.1818</td>\n",
       "    </tr>\n",
       "    <tr>\n",
       "      <th>1</th>\n",
       "      <td>MainScreenAppear</td>\n",
       "      <td>0.9827</td>\n",
       "      <td>0.9858</td>\n",
       "      <td>-1.049</td>\n",
       "      <td>0.2942</td>\n",
       "    </tr>\n",
       "    <tr>\n",
       "      <th>2</th>\n",
       "      <td>OffersScreenAppear</td>\n",
       "      <td>0.6035</td>\n",
       "      <td>0.6128</td>\n",
       "      <td>-0.782</td>\n",
       "      <td>0.4343</td>\n",
       "    </tr>\n",
       "    <tr>\n",
       "      <th>4</th>\n",
       "      <td>PaymentScreenSuccessful</td>\n",
       "      <td>0.4655</td>\n",
       "      <td>0.4719</td>\n",
       "      <td>-0.524</td>\n",
       "      <td>0.6004</td>\n",
       "    </tr>\n",
       "    <tr>\n",
       "      <th>0</th>\n",
       "      <td>Tutorial</td>\n",
       "      <td>0.1100</td>\n",
       "      <td>0.1123</td>\n",
       "      <td>-0.299</td>\n",
       "      <td>0.7649</td>\n",
       "    </tr>\n",
       "  </tbody>\n",
       "</table>\n",
       "</div>"
      ],
      "text/plain": [
       "                    evento  grupo_exp_%  grupo_control_%  z_stat  p_value\n",
       "3         CartScreenAppear       0.4848           0.5011  -1.335   0.1818\n",
       "1         MainScreenAppear       0.9827           0.9858  -1.049   0.2942\n",
       "2       OffersScreenAppear       0.6035           0.6128  -0.782   0.4343\n",
       "4  PaymentScreenSuccessful       0.4655           0.4719  -0.524   0.6004\n",
       "0                 Tutorial       0.1100           0.1123  -0.299   0.7649"
      ]
     },
     "execution_count": 18,
     "metadata": {},
     "output_type": "execute_result"
    }
   ],
   "source": [
    "# Aplicar la prueba Z a todos los eventos\n",
    "resultados_exp_vs_control = [prueba_z_control_vs_experimental(evento) for evento in eventos_unicos]\n",
    "\n",
    "# Convertir a DataFrame\n",
    "tabla_exp_vs_control = pd.DataFrame(resultados_exp_vs_control).sort_values('p_value')\n",
    "\n",
    "tabla_exp_vs_control\n"
   ]
  },
  {
   "cell_type": "markdown",
   "metadata": {},
   "source": [
    "<div class=\"alert alert-block alert-warning\">\n",
    "<b>Celda [18]</b> <a class=\"tocSkip\"></a><br>\n",
    "La tabla de resultados de las pruebas Z entre el grupo experimental y los grupos de control es clara y bien organizada. Asegúrate de interpretar estos resultados en el contexto del nivel de significancia que hayas elegido, para evitar conclusiones erróneas sobre la efectividad de los cambios experimentales.\n",
    "</div>\n"
   ]
  },
  {
   "cell_type": "markdown",
   "metadata": {},
   "source": [
    "**Resultados del test A/B: comparación entre grupo experimental (248) y grupos de control (246 + 247)**\n",
    "\n",
    "Se aplicó una prueba Z de proporciones para los cinco eventos principales. Aquí están los resultados:\n",
    "\n",
    "| Evento                   | Grupo Experimental (%) | Grupo Control (%) | Z-Stat | Valor p  |\n",
    "|--------------------------|------------------------|-------------------|--------|----------|\n",
    "| Tutorial                 | 11.00%                 | 11.23%            | -0.299 | 0.7649   |\n",
    "| MainScreenAppear         | 98.27%                 | 98.58%            | -1.049 | 0.2942   |\n",
    "| OffersScreenAppear       | 60.35%                 | 61.28%            | -0.782 | 0.4343   |\n",
    "| CartScreenAppear         | 48.48%                 | 50.11%            | -1.335 | 0.1818   |\n",
    "| PaymentScreenSuccessful  | 46.55%                 | 47.19%            | -0.524 | 0.6004   |\n",
    "\n",
    "**Conclusión**: No se detectaron diferencias estadísticamente significativas (**todos los valores p > 0.05**) entre el grupo experimental y los grupos de control combinados.\n",
    "\n",
    "Esto sugiere que el cambio de fuente **no tuvo un impacto negativo ni positivo detectable** en el comportamiento del usuario con respecto a los eventos clave de la aplicación.\n",
    "\n",
    "**Recomendación**: El equipo de diseño puede implementar el nuevo tipo de fuente con confianza, aunque se podría complementar el análisis con métricas cualitativas (e.g., encuestas o tests de usabilidad).\n"
   ]
  },
  {
   "cell_type": "code",
   "execution_count": 19,
   "metadata": {},
   "outputs": [],
   "source": [
    "# Paso 5.7: Función para comparar experimental vs control individual\n",
    "def prueba_z_vs_grupo(evento, grupo_exp=248, grupo_control=246):\n",
    "    total_exp = df_filtrado[df_filtrado['experiment'] == grupo_exp]['user_id'].nunique()\n",
    "    total_ctrl = df_filtrado[df_filtrado['experiment'] == grupo_control]['user_id'].nunique()\n",
    "\n",
    "    df_evento = df_filtrado[df_filtrado['event'] == evento]\n",
    "    cuenta_exp = df_evento[df_evento['experiment'] == grupo_exp]['user_id'].nunique()\n",
    "    cuenta_ctrl = df_evento[df_evento['experiment'] == grupo_control]['user_id'].nunique()\n",
    "\n",
    "    conteos = [cuenta_exp, cuenta_ctrl]\n",
    "    totales = [total_exp, total_ctrl]\n",
    "    stat, p_value = proportions_ztest(count=conteos, nobs=totales)\n",
    "\n",
    "    return {\n",
    "        'evento': evento,\n",
    "        f'{grupo_exp}_%': round(cuenta_exp / total_exp, 4),\n",
    "        f'{grupo_control}_%': round(cuenta_ctrl / total_ctrl, 4),\n",
    "        'z_stat': round(stat, 3),\n",
    "        'p_value': round(p_value, 4)\n",
    "    }\n"
   ]
  },
  {
   "cell_type": "code",
   "execution_count": 20,
   "metadata": {},
   "outputs": [
    {
     "data": {
      "text/plain": [
       "(                    evento   248_%   246_%  z_stat  p_value\n",
       " 3         CartScreenAppear  0.4848  0.5097  -1.760   0.0784\n",
       " 2       OffersScreenAppear  0.6035  0.6208  -1.258   0.2084\n",
       " 4  PaymentScreenSuccessful  0.4655  0.4831  -1.247   0.2123\n",
       " 1         MainScreenAppear  0.9827  0.9863  -1.047   0.2950\n",
       " 0                 Tutorial  0.1100  0.1119  -0.219   0.8264,\n",
       "                     evento   248_%   247_%  z_stat  p_value\n",
       " 1         MainScreenAppear  0.9827  0.9853  -0.741   0.4587\n",
       " 3         CartScreenAppear  0.4848  0.4926  -0.555   0.5786\n",
       " 4  PaymentScreenSuccessful  0.4655  0.4608   0.335   0.7373\n",
       " 0                 Tutorial  0.1100  0.1126  -0.298   0.7653\n",
       " 2       OffersScreenAppear  0.6035  0.6049  -0.101   0.9198)"
      ]
     },
     "execution_count": 20,
     "metadata": {},
     "output_type": "execute_result"
    }
   ],
   "source": [
    "# Eventos únicos ya conocidos\n",
    "eventos_unicos = df_filtrado['event'].unique()\n",
    "\n",
    "# Comparar grupo 248 vs 246\n",
    "comparacion_248_vs_246 = [prueba_z_vs_grupo(evento, grupo_exp=248, grupo_control=246) for evento in eventos_unicos]\n",
    "tabla_248_vs_246 = pd.DataFrame(comparacion_248_vs_246).sort_values('p_value')\n",
    "\n",
    "# Comparar grupo 248 vs 247\n",
    "comparacion_248_vs_247 = [prueba_z_vs_grupo(evento, grupo_exp=248, grupo_control=247) for evento in eventos_unicos]\n",
    "tabla_248_vs_247 = pd.DataFrame(comparacion_248_vs_247).sort_values('p_value')\n",
    "\n",
    "tabla_248_vs_246, tabla_248_vs_247\n"
   ]
  },
  {
   "cell_type": "markdown",
   "metadata": {},
   "source": [
    "**Comparación individual: grupo experimental (248) vs cada grupo de control**\n",
    "\n",
    "Se realizaron pruebas Z de proporciones entre el grupo experimental (fuentes nuevas) y cada grupo de control (fuentes antiguas) por separado.\n",
    "\n",
    "**248 vs 246:**\n",
    "\n",
    "| Evento                   | 248 (%) | 246 (%) | Z-Stat | Valor p  |\n",
    "|--------------------------|---------|---------|--------|----------|\n",
    "| CartScreenAppear         | 48.48%  | 50.97%  | -1.760 | 0.0784   |\n",
    "| OffersScreenAppear       | 60.35%  | 62.08%  | -1.258 | 0.2084   |\n",
    "| PaymentScreenSuccessful  | 46.55%  | 48.31%  | -1.247 | 0.2123   |\n",
    "| MainScreenAppear         | 98.27%  | 98.63%  | -1.047 | 0.2950   |\n",
    "| Tutorial                 | 11.00%  | 11.19%  | -0.219 | 0.8264   |\n",
    "\n",
    "**248 vs 247:**\n",
    "\n",
    "| Evento                   | 248 (%) | 247 (%) | Z-Stat | Valor p  |\n",
    "|--------------------------|---------|---------|--------|----------|\n",
    "| MainScreenAppear         | 98.27%  | 98.53%  | -0.741 | 0.4587   |\n",
    "| CartScreenAppear         | 48.48%  | 49.26%  | -0.555 | 0.5786   |\n",
    "| PaymentScreenSuccessful  | 46.55%  | 46.08%  |  0.335 | 0.7373   |\n",
    "| Tutorial                 | 11.00%  | 11.26%  | -0.298 | 0.7653   |\n",
    "| OffersScreenAppear       | 60.35%  | 60.49%  | -0.101 | 0.9198   |\n",
    "\n",
    "**Conclusión**: Ninguno de los valores p es menor a 0.05 en ninguna de las comparaciones, lo que indica que **no hay diferencias estadísticamente significativas** entre el grupo experimental y los grupos de control, ni individualmente ni combinados.\n",
    "\n",
    "Esto refuerza la conclusión de que **el cambio de fuente no afecta negativamente la experiencia del usuario**, y puede implementarse con confianza.\n"
   ]
  },
  {
   "cell_type": "code",
   "execution_count": 21,
   "metadata": {},
   "outputs": [
    {
     "data": {
      "image/png": "[encoded data removed]",
      "text/plain": [
       "<Figure size 1000x600 with 1 Axes>"
      ]
     },
     "metadata": {},
     "output_type": "display_data"
    }
   ],
   "source": [
    "# Eventos clave que forman parte del embudo y del análisis A/A/B\n",
    "eventos_interes = ['MainScreenAppear', 'OffersScreenAppear', 'CartScreenAppear', 'PaymentScreenSuccessful', 'Tutorial']\n",
    "\n",
    "# Calcular proporción de usuarios por evento y grupo\n",
    "proporciones = []\n",
    "usuarios_totales_grupo = df_filtrado.groupby('experiment')['user_id'].nunique()\n",
    "\n",
    "for evento in eventos_interes:\n",
    "    df_evento = df_filtrado[df_filtrado['event'] == evento]\n",
    "    usuarios_evento = df_evento.groupby('experiment')['user_id'].nunique()\n",
    "    for grupo in [246, 247, 248]:\n",
    "        proporciones.append({\n",
    "            'evento': evento,\n",
    "            'grupo': grupo,\n",
    "            'proporcion': usuarios_evento.get(grupo, 0) / usuarios_totales_grupo[grupo]\n",
    "        })\n",
    "\n",
    "# Crear DataFrame para graficar\n",
    "df_plot = pd.DataFrame(proporciones)\n",
    "\n",
    "# Crear gráfico\n",
    "plt.figure(figsize=(10, 6))\n",
    "sns.barplot(data=df_plot, x='evento', y='proporcion', hue='grupo')\n",
    "plt.title('Proporción de usuarios que realizaron cada evento por grupo experimental')\n",
    "plt.ylabel('Proporción de usuarios')\n",
    "plt.xlabel('Evento')\n",
    "plt.ylim(0, 1)\n",
    "plt.legend(title='Grupo experimental')\n",
    "plt.tight_layout()\n",
    "plt.show()\n"
   ]
  },
  {
   "cell_type": "markdown",
   "metadata": {},
   "source": [
    "**Visualización comparativa de comportamiento por grupo experimental**\n",
    "\n",
    "El gráfico anterior muestra la **proporción de usuarios que realizaron cada uno de los eventos clave**, separados por grupo experimental:\n",
    "\n",
    "- **Grupos 246 y 247**: control (fuentes antiguas)\n",
    "- **Grupo 248**: experimental (fuente nueva)\n",
    "\n",
    "**Observaciones clave:**\n",
    "- Las proporciones son muy similares entre todos los grupos para cada evento.\n",
    "- No se observan diferencias visuales significativas que indiquen un cambio en el comportamiento del usuario por la nueva fuente.\n",
    "- Esto **refuerza visualmente** lo que ya fue demostrado estadísticamente en las pruebas Z.\n",
    "\n",
    "**Conclusión**: El diseño con nueva fuente **no afectó negativamente** la experiencia de los usuarios en ninguna etapa del embudo ni en los eventos más comunes.\n"
   ]
  },
  {
   "cell_type": "code",
   "execution_count": 22,
   "metadata": {},
   "outputs": [
    {
     "data": {
      "text/html": [
       "<div>\n",
       "<style scoped>\n",
       "    .dataframe tbody tr th:only-of-type {\n",
       "        vertical-align: middle;\n",
       "    }\n",
       "\n",
       "    .dataframe tbody tr th {\n",
       "        vertical-align: top;\n",
       "    }\n",
       "\n",
       "    .dataframe thead th {\n",
       "        text-align: right;\n",
       "    }\n",
       "</style>\n",
       "<table border=\"1\" class=\"dataframe\">\n",
       "  <thead>\n",
       "    <tr style=\"text-align: right;\">\n",
       "      <th></th>\n",
       "      <th>Nivel de significancia (α)</th>\n",
       "      <th>Falsos positivos esperados</th>\n",
       "      <th>Resultados significativos reales</th>\n",
       "    </tr>\n",
       "  </thead>\n",
       "  <tbody>\n",
       "    <tr>\n",
       "      <th>0</th>\n",
       "      <td>0.10</td>\n",
       "      <td>2.0</td>\n",
       "      <td>1</td>\n",
       "    </tr>\n",
       "    <tr>\n",
       "      <th>1</th>\n",
       "      <td>0.05</td>\n",
       "      <td>1.0</td>\n",
       "      <td>0</td>\n",
       "    </tr>\n",
       "    <tr>\n",
       "      <th>2</th>\n",
       "      <td>0.01</td>\n",
       "      <td>0.2</td>\n",
       "      <td>0</td>\n",
       "    </tr>\n",
       "  </tbody>\n",
       "</table>\n",
       "</div>"
      ],
      "text/plain": [
       "   Nivel de significancia (α)  Falsos positivos esperados  \\\n",
       "0                        0.10                         2.0   \n",
       "1                        0.05                         1.0   \n",
       "2                        0.01                         0.2   \n",
       "\n",
       "   Resultados significativos reales  \n",
       "0                                 1  \n",
       "1                                 0  \n",
       "2                                 0  "
      ]
     },
     "execution_count": 22,
     "metadata": {},
     "output_type": "execute_result"
    }
   ],
   "source": [
    "# Reunir todos los resultados p de las 20 pruebas\n",
    "todos_los_p_values = pd.concat([\n",
    "    tabla_pruebas['p_value'],          # A/A: 246 vs 247\n",
    "    tabla_exp_vs_control['p_value'],   # A/B: 248 vs (246+247)\n",
    "    tabla_248_vs_246['p_value'],       # 248 vs 246\n",
    "    tabla_248_vs_247['p_value']        # 248 vs 247\n",
    "])\n",
    "\n",
    "# Total de pruebas realizadas\n",
    "total_pruebas = len(todos_los_p_values)\n",
    "\n",
    "# Probar distintos niveles de significancia\n",
    "niveles = [0.1, 0.05, 0.01]\n",
    "falsos_positivos_esperados = {alpha: round(alpha * total_pruebas, 2) for alpha in niveles}\n",
    "reales_significativos = {alpha: (todos_los_p_values < alpha).sum() for alpha in niveles}\n",
    "\n",
    "# Crear DataFrame resumen\n",
    "evaluacion_significancia = pd.DataFrame({\n",
    "    'Nivel de significancia (α)': niveles,\n",
    "    'Falsos positivos esperados': [falsos_positivos_esperados[a] for a in niveles],\n",
    "    'Resultados significativos reales': [reales_significativos[a] for a in niveles]\n",
    "})\n",
    "\n",
    "evaluacion_significancia\n"
   ]
  },
  {
   "cell_type": "markdown",
   "metadata": {},
   "source": [
    "### Consideraciones sobre el nivel de significancia y número de pruebas\n",
    "\n",
    "En este análisis se ha utilizado un nivel de significancia común de **α = 0.05** para todas las pruebas de hipótesis estadísticas (Z-tests de proporciones). Esto significa que aceptamos un 5% de probabilidad de obtener un falso positivo por prueba.\n",
    "\n",
    "**¿Cuántas pruebas realizamos?**\n",
    "\n",
    "Se aplicaron pruebas Z de proporciones a:\n",
    "\n",
    "- **5 eventos** entre grupos de control (test A/A)\n",
    "- **5 eventos** entre grupo experimental y controles combinados (A/B)\n",
    "- **5 eventos** entre grupo experimental y grupo 246\n",
    "- **5 eventos** entre grupo experimental y grupo 247\n",
    "\n",
    "**Total de pruebas realizadas: 20**\n",
    "\n",
    "Con **α = 0.05**, la probabilidad de tener al menos un falso positivo en 20 pruebas es considerable. Si se hubiera usado **α = 0.10**, entonces **esperaríamos 2 falsos positivos en promedio**, incluso si no existiera ningún efecto real.\n",
    "\n",
    "- Si **ninguna** de las pruebas dio p < 0.05 (como en este caso), **no es necesario ajustar el nivel de significancia**: los resultados son robustos.\n",
    "- Si se hubieran detectado valores p < 0.05, habría que aplicar una **corrección por comparaciones múltiples**, como:\n",
    "  - **Bonferroni**: α ajustado = 0.05 / 20 = 0.0025\n",
    "  - **Benjamini-Hochberg**: más flexible, controla la tasa de falsos descubrimientos.\n",
    "\n",
    "En este caso, **todos los valores p son mayores a 0.05**, por lo tanto **no se detectaron diferencias significativas**, incluso sin corrección.\n",
    "\n",
    "**Conclusión**: El cambio de fuente no tuvo un impacto estadísticamente significativo. Las decisiones pueden tomarse con confianza sin riesgo de errores tipo I debido a comparaciones múltiples.\n"
   ]
  },
  {
   "cell_type": "markdown",
   "metadata": {},
   "source": [
    "## Conclusión del Proyecto\n",
    "\n",
    "#### 1. Embudo de conversión\n",
    "- Solo el **47.7%** de los usuarios que inician su sesión llegan hasta la compra.\n",
    "- La **mayor pérdida** se da entre la pantalla principal y la de ofertas (**−38%**), lo que sugiere una posible fricción o desinterés en esa etapa.\n",
    "\n",
    "#### 2. Validez del experimento (test A/A)\n",
    "- Los grupos de control (246 y 247) muestran **resultados estadísticamente indistinguibles**.\n",
    "- Esto valida la asignación aleatoria y la confiabilidad del experimento A/B.\n",
    "\n",
    "#### 3. Impacto del cambio de fuente (grupo 248)\n",
    "- Se comparó el grupo experimental con los controles de forma **combinada e individual**.\n",
    "- No se detectaron diferencias significativas en la proporción de usuarios que realizan los eventos clave.\n",
    "- Se realizaron **20 pruebas estadísticas** sin obtener falsos positivos (todos los valores p > 0.05).\n",
    "\n",
    "### Conclusión final\n",
    "\n",
    "El cambio de fuente **no tiene un impacto negativo** en el comportamiento de los usuarios. Esto fue demostrado tanto visual como estadísticamente.\n",
    "\n",
    "**Recomendación:**  \n",
    "El equipo de diseño puede implementar el nuevo tipo de fuente con confianza. Se recomienda, sin embargo, investigar más a fondo la etapa de ofertas, donde se pierde el mayor porcentaje de usuarios.\n"
   ]
  },
  {
   "cell_type": "code",
   "execution_count": null,
   "metadata": {},
   "outputs": [],
   "source": []
  },
  {
   "cell_type": "markdown",
   "metadata": {},
   "source": [
    "<div class=\"alert alert-block alert-success\">\n",
    "<b>Comentario final</b> <a class=\"tocSkip\"></a><br>\n",
    "¡Muy buen trabajo, Andres! A lo largo del proyecto mostraste fortalezas muy claras:<br><br>\n",
    "• Carga y exploración inicial de datos bien ejecutada, permitiendo un entendimiento sólido del conjunto de datos.<br>\n",
    "• Renombramiento y transformación de columnas para facilitar su manejo, lo que mejora la claridad y el análisis.<br>\n",
    "• Cálculo preciso de métricas básicas del conjunto de datos, proporcionando una base sólida para el análisis.<br>\n",
    "• Visualización clara de la distribución temporal de eventos, facilitando la identificación de patrones.<br>\n",
    "• Filtrado efectivo de datos para análisis posterior, asegurando la relevancia de los datos utilizados.<br>\n",
    "• Identificación adecuada de eventos más frecuentes, guiando el enfoque del análisis de embudo.<br>\n",
    "• Estructuración correcta del embudo de conversión, esencial para entender el comportamiento del usuario.<br>\n",
    "• Implementación de pruebas estadísticas para validar grupos experimentales, asegurando la validez de los resultados.<br>\n",
    "• Organización clara de resultados de pruebas Z, facilitando la interpretación de los resultados.<br>\n",
    "• Uso efectivo de visualizaciones para comunicar hallazgos, mejorando la comprensión de los datos.<br>\n",
    "¡Felicidades!\n",
    "</div>\n"
   ]
  },
  {
   "cell_type": "code",
   "execution_count": null,
   "metadata": {},
   "outputs": [],
   "source": []
  }
 ],
 "metadata": {
  "kernelspec": {
   "display_name": "Python 3",
   "language": "python",
   "name": "python3"
  },
  "language_info": {
   "codemirror_mode": {
    "name": "ipython",
    "version": 3
   },
   "file_extension": ".py",
   "mimetype": "text/x-python",
   "name": "python",
   "nbconvert_exporter": "python",
   "pygments_lexer": "ipython3",
   "version": "3.12.1"
  }
 },
 "nbformat": 4,
 "nbformat_minor": 4
}
